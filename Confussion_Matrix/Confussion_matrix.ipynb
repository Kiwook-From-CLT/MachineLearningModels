{
 "cells": [
  {
   "cell_type": "code",
   "execution_count": 2,
   "metadata": {},
   "outputs": [],
   "source": [
    "import pandas as pd\n",
    "pd.options.mode.chained_assignment = None\n",
    "\n",
    "# Because the dataset is pretty big, you can specify low_memory = False to make sure that you get the variable types correct on your rows\n",
    "# The dataset has a additional column at the top that you can skip using the skiprows argument\n",
    "raw_data = pd.read_csv(\"modeling_dataset.csv\", low_memory = False)"
   ]
  },
  {
   "cell_type": "code",
   "execution_count": 3,
   "metadata": {},
   "outputs": [
    {
     "name": "stdout",
     "output_type": "stream",
     "text": [
      "['broke_up' 'living_together' 'currently_married' 'time_since_cohab'\n",
      " 'marital_status' 'time_since_first_relationship' 'time_since_romantic'\n",
      " 'HOW_LONG_AGO_FIRST_MET_CAT' 'time_since_met'\n",
      " 'lived_together_before_married' 'time_met_until_married' 'age_married'\n",
      " 'time_dating_until_married' 'age' 'members_gt_18'\n",
      " 'no_domestic_partnership_or_civil_union' 'has_domestic_partnership'\n",
      " 'has_civil_union']\n"
     ]
    }
   ],
   "source": [
    "columns_to_remain= ['broke_up','living_together','currently_married','time_since_cohab','marital_status','time_since_first_relationship','time_since_romantic','HOW_LONG_AGO_FIRST_MET_CAT','time_since_met','lived_together_before_married','time_met_until_married','age_married','time_dating_until_married','age','members_gt_18','no_domestic_partnership_or_civil_union','has_domestic_partnership','has_civil_union']\n",
    "\n",
    "processed_data = raw_data[columns_to_remain]\n",
    "print(processed_data.columns.values)"
   ]
  },
  {
   "cell_type": "code",
   "execution_count": 31,
   "metadata": {},
   "outputs": [
    {
     "data": {
      "text/plain": [
       "0            no\n",
       "1            no\n",
       "2            no\n",
       "3            no\n",
       "4            no\n",
       "5            no\n",
       "6       refused\n",
       "7       refused\n",
       "8            no\n",
       "9            no\n",
       "10      refused\n",
       "11           no\n",
       "12           no\n",
       "13           no\n",
       "14          yes\n",
       "15          yes\n",
       "16           no\n",
       "17           no\n",
       "18           no\n",
       "19           no\n",
       "20      refused\n",
       "21      refused\n",
       "22           no\n",
       "23           no\n",
       "24           no\n",
       "25           no\n",
       "26           no\n",
       "27           no\n",
       "28      refused\n",
       "29      refused\n",
       "         ...   \n",
       "3115    refused\n",
       "3116    refused\n",
       "3117    refused\n",
       "3118    refused\n",
       "3119    refused\n",
       "3120    refused\n",
       "3121    refused\n",
       "3122    refused\n",
       "3123    refused\n",
       "3124    refused\n",
       "3125    refused\n",
       "3126    refused\n",
       "3127    refused\n",
       "3128    refused\n",
       "3129    refused\n",
       "3130    refused\n",
       "3131    refused\n",
       "3132    refused\n",
       "3133    refused\n",
       "3134    refused\n",
       "3135    refused\n",
       "3136    refused\n",
       "3137    refused\n",
       "3138    refused\n",
       "3139    refused\n",
       "3140    refused\n",
       "3141    refused\n",
       "3142    refused\n",
       "3143    refused\n",
       "3144    refused\n",
       "Name: has_civil_union, dtype: object"
      ]
     },
     "execution_count": 31,
     "metadata": {},
     "output_type": "execute_result"
    }
   ],
   "source": [
    "# Data cleaning \n",
    "# no_domestic_partnership_or_civil_union, has_domestic_partnership \n",
    "# and has_civil_union columns have many missing values.\n",
    "# So, I try to revise missing values to \"refused\"\n",
    "\n",
    "processed_data['no_domestic_partnership_or_civil_union'].fillna('refused')\n",
    "processed_data['has_domestic_partnership'].fillna('refused')\n",
    "processed_data['has_civil_union'].fillna('refused')\n"
   ]
  },
  {
   "cell_type": "code",
   "execution_count": 4,
   "metadata": {
    "collapsed": true
   },
   "outputs": [],
   "source": [
    "# Imputation and create holdout\n",
    "from sklearn import preprocessing\n",
    "\n",
    "categorical = processed_data.select_dtypes(include=['object'])\n",
    "numeric = processed_data.select_dtypes(exclude=['object'])\n",
    "\n",
    "for name, values in categorical.items():\n",
    "    dummies = pd.get_dummies(values.str.strip(), prefix = name, dummy_na=True)\n",
    "    numeric = pd.concat([numeric, dummies], axis=1)\n",
    "    \n",
    "for name in numeric:\n",
    "    if pd.isnull(numeric[name]).sum() > 0:\n",
    "        numeric[\"%s_mi\" % (name)] = pd.isnull(numeric[name])\n",
    "        median = numeric[name].median()\n",
    "        numeric[name] = numeric[name].apply(lambda x: median if pd.isnull(x) else x)\n",
    "        \n",
    "y = numeric['broke_up']\n",
    "X = numeric.drop(['broke_up'], axis = 1)\n",
    "\n",
    "# create a holdout\n",
    "import numpy as np\n",
    "from sklearn.model_selection import train_test_split\n",
    "X_train, X_test, y_train, y_test = train_test_split(X, y, test_size=0.2, random_state=1234)"
   ]
  },
  {
   "cell_type": "code",
   "execution_count": 33,
   "metadata": {},
   "outputs": [
    {
     "name": "stdout",
     "output_type": "stream",
     "text": [
      "Fitting 5 folds for each of 300 candidates, totalling 1500 fits\n"
     ]
    },
    {
     "name": "stderr",
     "output_type": "stream",
     "text": [
      "[Parallel(n_jobs=-1)]: Done  34 tasks      | elapsed:    1.4s\n",
      "[Parallel(n_jobs=-1)]: Done 184 tasks      | elapsed:    6.7s\n",
      "[Parallel(n_jobs=-1)]: Done 434 tasks      | elapsed:   15.4s\n",
      "[Parallel(n_jobs=-1)]: Done 784 tasks      | elapsed:   27.3s\n",
      "[Parallel(n_jobs=-1)]: Done 1234 tasks      | elapsed:   43.5s\n",
      "[Parallel(n_jobs=-1)]: Done 1500 out of 1500 | elapsed:   53.4s finished\n"
     ]
    },
    {
     "name": "stdout",
     "output_type": "stream",
     "text": [
      "Pipeline(steps=[('standardize', StandardScaler(copy=True, with_mean=True, with_std=True)), ('model', SGDClassifier(alpha=2.7861211686297702, average=False, class_weight=None,\n",
      "       epsilon=0.1, eta0=0.0, fit_intercept=True,\n",
      "       l1_ratio=0.40000000000000002, learning_rate='optimal', loss='log',\n",
      "       n_iter=200, n_jobs=-1, penalty='l2', power_t=0.5, random_state=None,\n",
      "       shuffle=True, verbose=0, warm_start=False))])\n",
      "Best score of Linear Regression = 0.832693\n"
     ]
    }
   ],
   "source": [
    "# Logistic Regression\n",
    "# choose the model\n",
    "from sklearn import linear_model\n",
    "lr = linear_model.SGDClassifier(loss='log', penalty='l2', n_jobs = -1)\n",
    "\n",
    "# set up cv\n",
    "from sklearn import model_selection\n",
    "cv = model_selection.KFold(5)\n",
    "\n",
    "# pipeline\n",
    "from sklearn.pipeline import Pipeline\n",
    "pipeline = Pipeline(steps=[('standardize', preprocessing.StandardScaler())\n",
    "                           , ('model', lr) ])\n",
    "\n",
    "# tune the model\n",
    "my_ratio = np.linspace(0.1,1, num = 10)\n",
    "my_alpha = np.logspace(0.001, 1, num = 10)\n",
    "number_of_iter = [100,150,200]\n",
    "\n",
    "from sklearn.model_selection import GridSearchCV\n",
    "optimized_lr = GridSearchCV(estimator=pipeline\n",
    "                            , cv=cv\n",
    "                            , param_grid=dict(model__alpha = my_alpha\n",
    "                                              , model__l1_ratio = my_ratio\n",
    "                                              , model__n_iter = number_of_iter)\n",
    "                            , scoring = 'roc_auc'\n",
    "                            , verbose = 1\n",
    "                            , n_jobs = -1\n",
    "                           )\n",
    "optimized_lr.fit(X_train, y_train)\n",
    "print(optimized_lr.best_estimator_)\n",
    "print(\"Best score of SGDClassifier = %f\" %(optimized_lr.best_score_))"
   ]
  },
  {
   "cell_type": "code",
   "execution_count": 34,
   "metadata": {},
   "outputs": [
    {
     "name": "stdout",
     "output_type": "stream",
     "text": [
      "Fitting 5 folds for each of 11 candidates, totalling 55 fits\n"
     ]
    },
    {
     "name": "stderr",
     "output_type": "stream",
     "text": [
      "[Parallel(n_jobs=-1)]: Done  40 out of  55 | elapsed:    0.7s remaining:    0.3s\n",
      "[Parallel(n_jobs=-1)]: Done  55 out of  55 | elapsed:    0.8s finished\n"
     ]
    },
    {
     "name": "stdout",
     "output_type": "stream",
     "text": [
      "Pipeline(steps=[('standardize', StandardScaler(copy=True, with_mean=True, with_std=True)), ('model', DecisionTreeClassifier(class_weight=None, criterion='gini', max_depth=4,\n",
      "            max_features=None, max_leaf_nodes=None,\n",
      "            min_impurity_split=1e-07, min_samples_leaf=1,\n",
      "            min_samples_split=2, min_weight_fraction_leaf=0.0,\n",
      "            presort=False, random_state=None, splitter='best'))])\n",
      "Best score of DecisionTree = 0.745400\n"
     ]
    }
   ],
   "source": [
    "# Decision Tree\n",
    "# choose the model\n",
    "from sklearn import tree\n",
    "my_tree = tree.DecisionTreeClassifier()\n",
    "\n",
    "# set up cv\n",
    "from sklearn import model_selection\n",
    "cv = model_selection.KFold(5)\n",
    "\n",
    "# pipeline\n",
    "from sklearn.pipeline import Pipeline\n",
    "pipeline = Pipeline(steps=[('standardize', preprocessing.StandardScaler()), ('model', my_tree) ])\n",
    "\n",
    "# tune the model\n",
    "depth_value = [4,5,6,7,8,9,10,12,13,14,15]\n",
    "\n",
    "from sklearn.model_selection import GridSearchCV\n",
    "optimized_tree = GridSearchCV(estimator=pipeline\n",
    "                            , cv=cv\n",
    "                            , param_grid=dict(model__max_depth = depth_value)\n",
    "                            , scoring = 'roc_auc'\n",
    "                            , verbose = 1\n",
    "                            , n_jobs = -1\n",
    "                           )\n",
    "optimized_tree.fit(X_train, y_train)\n",
    "print(optimized_tree.best_estimator_)\n",
    "print(\"Best score of DecisionTree = %f\" %(optimized_tree.best_score_))"
   ]
  },
  {
   "cell_type": "code",
   "execution_count": 5,
   "metadata": {},
   "outputs": [
    {
     "name": "stdout",
     "output_type": "stream",
     "text": [
      "Fitting 5 folds for each of 60 candidates, totalling 300 fits\n"
     ]
    },
    {
     "name": "stderr",
     "output_type": "stream",
     "text": [
      "[Parallel(n_jobs=-1)]: Done  52 tasks      | elapsed:    1.4s\n"
     ]
    },
    {
     "name": "stdout",
     "output_type": "stream",
     "text": [
      "Pipeline(steps=[('standardize', StandardScaler(copy=True, with_mean=True, with_std=True)), ('my_model', RandomForestClassifier(bootstrap=True, class_weight=None, criterion='gini',\n",
      "            max_depth=3, max_features=30, max_leaf_nodes=None,\n",
      "            min_impurity_split=1e-07, min_samples_leaf=1,\n",
      "            min_samples_split=2, min_weight_fraction_leaf=0.0,\n",
      "            n_estimators=30, n_jobs=1, oob_score=False, random_state=None,\n",
      "            verbose=0, warm_start=False))])\n",
      "Best score of RandomForest = 0.839736\n"
     ]
    },
    {
     "name": "stderr",
     "output_type": "stream",
     "text": [
      "[Parallel(n_jobs=-1)]: Done 300 out of 300 | elapsed:    7.5s finished\n"
     ]
    }
   ],
   "source": [
    "# Random Forest\n",
    "# choose the model\n",
    "from sklearn import ensemble\n",
    "forest = ensemble.RandomForestClassifier()\n",
    "\n",
    "# set up cv\n",
    "from sklearn import model_selection\n",
    "cv = model_selection.KFold(5)\n",
    "\n",
    "# pipeline\n",
    "from sklearn.pipeline import Pipeline\n",
    "pipeline = Pipeline(steps=[('standardize', preprocessing.StandardScaler()), ('my_model', forest) ])\n",
    "\n",
    "# tune the model\n",
    "estimators = [10,20,30]\n",
    "depth_value = [3,4,5,6,7]\n",
    "number_of_features = [20,30,40,50]\n",
    "\n",
    "from sklearn.model_selection import GridSearchCV\n",
    "optimized_rf = GridSearchCV(estimator=pipeline\n",
    "                            , cv=cv\n",
    "                            , param_grid=dict(my_model__n_estimators = estimators\n",
    "                                             , my_model__max_depth = depth_value\n",
    "                                             , my_model__max_features = number_of_features)\n",
    "                            , scoring = 'roc_auc'\n",
    "                            , verbose = 1\n",
    "                            , n_jobs = -1\n",
    "                           )\n",
    "optimized_rf.fit(X_train, y_train)\n",
    "print(optimized_rf.best_estimator_)\n",
    "print(\"Best score of RandomForest = %f\" %(optimized_rf.best_score_))"
   ]
  },
  {
   "cell_type": "code",
   "execution_count": 36,
   "metadata": {},
   "outputs": [
    {
     "name": "stdout",
     "output_type": "stream",
     "text": [
      "Fitting 5 folds for each of 180 candidates, totalling 900 fits\n"
     ]
    },
    {
     "name": "stderr",
     "output_type": "stream",
     "text": [
      "[Parallel(n_jobs=-1)]: Done  52 tasks      | elapsed:    1.3s\n",
      "[Parallel(n_jobs=-1)]: Done 352 tasks      | elapsed:   11.2s\n",
      "[Parallel(n_jobs=-1)]: Done 852 tasks      | elapsed:   25.9s\n"
     ]
    },
    {
     "name": "stdout",
     "output_type": "stream",
     "text": [
      "Pipeline(steps=[('standardize', StandardScaler(copy=True, with_mean=True, with_std=True)), ('my_model', GradientBoostingClassifier(criterion='friedman_mse', init=None,\n",
      "              learning_rate=0.1, loss='deviance', max_depth=3,\n",
      "              max_features=40, max_leaf_nodes=None,\n",
      "              min_impurity...s=30, presort='auto', random_state=None,\n",
      "              subsample=1.0, verbose=0, warm_start=False))])\n",
      "Best score of Gradient Boosting = 0.838674\n"
     ]
    },
    {
     "name": "stderr",
     "output_type": "stream",
     "text": [
      "[Parallel(n_jobs=-1)]: Done 900 out of 900 | elapsed:   27.9s finished\n"
     ]
    }
   ],
   "source": [
    "# Gradient Boosting\n",
    "# choose the model\n",
    "from sklearn import ensemble\n",
    "\n",
    "gradient_boosting = ensemble.GradientBoostingClassifier()\n",
    "\n",
    "# set up cv\n",
    "from sklearn import model_selection\n",
    "cv = model_selection.KFold(5)\n",
    "\n",
    "# pipeline\n",
    "from sklearn.pipeline import Pipeline\n",
    "pipeline = Pipeline(steps=[('standardize', preprocessing.StandardScaler()), ('my_model', gradient_boosting) ])\n",
    "\n",
    "# tune the model\n",
    "estimators = [10,20,30]\n",
    "depth_value = [3,4,5,6,7]\n",
    "number_of_features = [20,30,40,50]\n",
    "number_of_learning_rate = [0.1,0.3,0.5]\n",
    "\n",
    "from sklearn.model_selection import GridSearchCV\n",
    "optimized_gb = GridSearchCV(estimator=pipeline\n",
    "                            , cv=cv\n",
    "                            , param_grid=dict(my_model__n_estimators = estimators\n",
    "                                             , my_model__max_depth = depth_value\n",
    "                                             , my_model__max_features = number_of_features\n",
    "                                             , my_model__learning_rate = number_of_learning_rate)\n",
    "                            , scoring = 'roc_auc'\n",
    "                            , verbose = 1\n",
    "                            , n_jobs = -1\n",
    "                           )\n",
    "optimized_gb.fit(X_train, y_train)\n",
    "print(optimized_gb.best_estimator_)\n",
    "print(\"Best score of Gradient Boosting = %f\" %(optimized_gb.best_score_))"
   ]
  },
  {
   "cell_type": "code",
   "execution_count": 50,
   "metadata": {},
   "outputs": [
    {
     "name": "stdout",
     "output_type": "stream",
     "text": [
      "Accuracy of test set (Random Forest) = 0.998130\n"
     ]
    }
   ],
   "source": [
    "optimized_rf.predict(X_test)\n",
    "print(\"Accuracy of test set (Random Forest) = %f\" %optimized_rf.score(X_test, y_test))"
   ]
  },
  {
   "cell_type": "code",
   "execution_count": 6,
   "metadata": {},
   "outputs": [
    {
     "name": "stdout",
     "output_type": "stream",
     "text": [
      "Fitting 5 folds for each of 60 candidates, totalling 300 fits\n"
     ]
    },
    {
     "name": "stderr",
     "output_type": "stream",
     "text": [
      "[Parallel(n_jobs=-1)]: Done 124 tasks      | elapsed:    1.7s\n",
      "[Parallel(n_jobs=-1)]: Done 300 out of 300 | elapsed:    3.7s finished\n"
     ]
    },
    {
     "name": "stdout",
     "output_type": "stream",
     "text": [
      "Confusion matrix, without normalization\n",
      "[[591   0]\n",
      " [ 38   0]]\n"
     ]
    },
    {
     "data": {
      "image/png": "[encoded data removed]",
      "text/plain": [
       "<matplotlib.figure.Figure at 0x112303d68>"
      ]
     },
     "metadata": {},
     "output_type": "display_data"
    }
   ],
   "source": [
    "# Choose randomforest model and apply for test set\n",
    "\n",
    "import itertools\n",
    "import matplotlib.pyplot as plt\n",
    "from sklearn.metrics import confusion_matrix\n",
    "\n",
    "y_pred = optimized_rf.fit(X_test, y_test).predict(X_test)\n",
    "class_names = y_test\n",
    "\n",
    "\n",
    "# get confusion matrix\n",
    "def plot_confusion_matrix(cm, classes,\n",
    "                          normalize=False,\n",
    "                          title='Confusion matrix',\n",
    "                          cmap=plt.cm.Blues):\n",
    "    \"\"\"\n",
    "    This function prints and plots the confusion matrix.\n",
    "    Normalization can be applied by setting `normalize=True`.\n",
    "    \"\"\"\n",
    "    plt.imshow(cm, interpolation='nearest', cmap=cmap)\n",
    "    plt.title(title)\n",
    "    plt.colorbar()\n",
    "    tick_marks = np.arange(len(classes))\n",
    "    plt.xticks(tick_marks, classes, rotation=45)\n",
    "    plt.yticks(tick_marks, classes)\n",
    "\n",
    "    if normalize:\n",
    "        cm = cm.astype('float') / cm.sum(axis=1)[:, np.newaxis]\n",
    "        print(\"Normalized confusion matrix\")\n",
    "    else:\n",
    "        print('Confusion matrix, without normalization')\n",
    "\n",
    "    print(cm)\n",
    "\n",
    "    thresh = cm.max() / 2.\n",
    "    for i, j in itertools.product(range(cm.shape[0]), range(cm.shape[1])):\n",
    "        plt.text(j, i, cm[i, j],\n",
    "                 horizontalalignment=\"center\",\n",
    "                 color=\"white\" if cm[i, j] > thresh else \"black\")\n",
    "\n",
    "    plt.tight_layout()\n",
    "    plt.ylabel('True label')\n",
    "    plt.xlabel('Predicted label')\n",
    "\n",
    "# Compute confusion matrix\n",
    "cnf_matrix = confusion_matrix(y_test, y_pred)\n",
    "np.set_printoptions(precision=2)\n",
    "\n",
    "# Plot non-normalized confusion matrix\n",
    "\n",
    "plt.figure()\n",
    "plot_confusion_matrix(cnf_matrix, classes=class_names,\n",
    "                      title='Confusion matrix')\n",
    "plt.show()"
   ]
  },
  {
   "cell_type": "code",
   "execution_count": null,
   "metadata": {
    "collapsed": true
   },
   "outputs": [],
   "source": []
  }
 ],
 "metadata": {
  "anaconda-cloud": {},
  "kernelspec": {
   "display_name": "Python 3",
   "language": "python",
   "name": "python3"
  },
  "language_info": {
   "codemirror_mode": {
    "name": "ipython",
    "version": 3
   },
   "file_extension": ".py",
   "mimetype": "text/x-python",
   "name": "python",
   "nbconvert_exporter": "python",
   "pygments_lexer": "ipython3",
   "version": "3.6.1"
  }
 },
 "nbformat": 4,
 "nbformat_minor": 1
}
